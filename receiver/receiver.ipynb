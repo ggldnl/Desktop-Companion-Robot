{
 "cells": [
  {
   "cell_type": "code",
   "execution_count": null,
   "metadata": {},
   "outputs": [],
   "source": [
    "from PIL import Image\n",
    "import numpy as np\n",
    "import socket\n",
    "import struct\n",
    "import matplotlib.pyplot as plt"
   ]
  },
  {
   "cell_type": "code",
   "execution_count": null,
   "metadata": {},
   "outputs": [],
   "source": [
    "import itertools\n",
    "\n",
    "\n",
    "def byte_array_to_bool_array(byte_array, original_shape):\n",
    "    flat_bool_array = []\n",
    "    \n",
    "    for byte in byte_array:\n",
    "        for bit in range(8):\n",
    "            flat_bool_array.append(bool(byte & (1 << bit)))\n",
    "\n",
    "    # flat_bool_array = flat_bool_array[:original_shape[0] * original_shape[1]]\n",
    "    bool_array = np.array(flat_bool_array).reshape(original_shape)\n",
    "\n",
    "    return bool_array\n",
    "\n",
    "def plot_bool_array(bool_array):\n",
    "    \"\"\"\n",
    "    Plot a 2D boolean array using matplotlib.\n",
    "    \n",
    "    :param bool_array: 2D numpy array of booleans\n",
    "    \"\"\"\n",
    "    plt.imshow(bool_array, cmap='gray', interpolation='nearest')\n",
    "    plt.title('2D Boolean Array')\n",
    "    plt.show()\n",
    "\n",
    "def receive(ip_address, port, buffer_size=1024):\n",
    "    sock = socket.socket(socket.AF_INET, socket.SOCK_DGRAM)\n",
    "    sock.bind((ip_address, port))\n",
    "    print(f\"Listening on {ip_address}:{port}\")\n",
    "\n",
    "    partial_data = {}\n",
    "    array_shapes = {}\n",
    "\n",
    "    while True:\n",
    "        packet, addr = sock.recvfrom(buffer_size)\n",
    "        print(len(packet))\n",
    "\n",
    "        array_id = packet[0]\n",
    "        seq_num = packet[1]\n",
    "        num_packets = packet[2]\n",
    "        width = packet[3]\n",
    "        height = packet[4]\n",
    "        data = packet[5:]\n",
    "\n",
    "        if array_id not in partial_data:\n",
    "            partial_data[array_id] = [None] * num_packets\n",
    "            array_shapes[array_id] = (height, width)\n",
    "\n",
    "        partial_data[array_id][seq_num] = data\n",
    "        print(f\"Received packet {seq_num + 1}/{num_packets} of array {array_id} from {addr}\")\n",
    "\n",
    "        if None not in partial_data[array_id]:\n",
    "            full_byte_array = bytearray(itertools.chain(*partial_data[array_id]))\n",
    "            original_shape = array_shapes[array_id]\n",
    "            bool_array = byte_array_to_bool_array(full_byte_array, original_shape)\n",
    "            plot_bool_array(bool_array)\n",
    "            del partial_data[array_id]\n",
    "            del array_shapes[array_id]\n"
   ]
  },
  {
   "cell_type": "code",
   "execution_count": null,
   "metadata": {},
   "outputs": [],
   "source": [
    "IP_ADDRESS = \"0.0.0.0\"  # Listen on all interfaces\n",
    "PORT = 5005\n",
    "\n",
    "receive(IP_ADDRESS, PORT)"
   ]
  }
 ],
 "metadata": {
  "kernelspec": {
   "display_name": "Python 3",
   "language": "python",
   "name": "python3"
  },
  "language_info": {
   "codemirror_mode": {
    "name": "ipython",
    "version": 3
   },
   "file_extension": ".py",
   "mimetype": "text/x-python",
   "name": "python",
   "nbconvert_exporter": "python",
   "pygments_lexer": "ipython3",
   "version": "3.10.12"
  }
 },
 "nbformat": 4,
 "nbformat_minor": 2
}
