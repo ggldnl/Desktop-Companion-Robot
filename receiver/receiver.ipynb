{
 "cells": [
  {
   "cell_type": "markdown",
   "metadata": {},
   "source": [
    "# Receive"
   ]
  },
  {
   "cell_type": "code",
   "execution_count": null,
   "metadata": {},
   "outputs": [],
   "source": [
    "from PIL import Image\n",
    "import numpy as np\n",
    "import socket\n",
    "import struct\n",
    "import matplotlib.pyplot as plt"
   ]
  },
  {
   "cell_type": "code",
   "execution_count": null,
   "metadata": {},
   "outputs": [],
   "source": [
    "import itertools\n",
    "\n",
    "\n",
    "def byte_array_to_bool_array(byte_array, original_shape):\n",
    "    flat_bool_array = []\n",
    "    \n",
    "    for byte in byte_array:\n",
    "        for bit in range(8):\n",
    "            flat_bool_array.append(bool(byte & (1 << bit)))\n",
    "\n",
    "    # flat_bool_array = flat_bool_array[:original_shape[0] * original_shape[1]]\n",
    "    bool_array = np.array(flat_bool_array).reshape(original_shape)\n",
    "\n",
    "    return bool_array\n",
    "\n",
    "def plot_bool_array(bool_array):\n",
    "    \"\"\"\n",
    "    Plot a 2D boolean array using matplotlib.\n",
    "    \n",
    "    :param bool_array: 2D numpy array of booleans\n",
    "    \"\"\"\n",
    "    plt.imshow(bool_array, cmap='gray', interpolation='nearest')\n",
    "    plt.title('2D Boolean Array')\n",
    "    plt.show()\n",
    "\n",
    "def receive(ip_address, port, buffer_size=1024):\n",
    "    sock = socket.socket(socket.AF_INET, socket.SOCK_DGRAM)\n",
    "    sock.bind((ip_address, port))\n",
    "    print(f\"Listening on {ip_address}:{port}\")\n",
    "\n",
    "    partial_data = {}\n",
    "    array_shapes = {}\n",
    "\n",
    "    while True:\n",
    "        packet, addr = sock.recvfrom(buffer_size)\n",
    "        print(len(packet))\n",
    "\n",
    "        array_id = packet[0]\n",
    "        seq_num = packet[1]\n",
    "        num_packets = packet[2]\n",
    "        width = packet[3]\n",
    "        height = packet[4]\n",
    "        data = packet[5:]\n",
    "\n",
    "        if array_id not in partial_data:\n",
    "            partial_data[array_id] = [None] * num_packets\n",
    "            array_shapes[array_id] = (height, width)\n",
    "\n",
    "        partial_data[array_id][seq_num] = data\n",
    "        print(f\"Received packet {seq_num + 1}/{num_packets} of array {array_id} from {addr}\")\n",
    "\n",
    "        if None not in partial_data[array_id]:\n",
    "            full_byte_array = bytearray(itertools.chain(*partial_data[array_id]))\n",
    "            original_shape = array_shapes[array_id]\n",
    "            bool_array = byte_array_to_bool_array(full_byte_array, original_shape)\n",
    "            plot_bool_array(bool_array)\n",
    "            del partial_data[array_id]\n",
    "            del array_shapes[array_id]\n"
   ]
  },
  {
   "cell_type": "code",
   "execution_count": null,
   "metadata": {},
   "outputs": [],
   "source": [
    "IP_ADDRESS = \"192.168.1.8\"  # Listen on all interfaces\n",
    "PORT = 57\n",
    "\n",
    "receive(IP_ADDRESS, PORT)"
   ]
  },
  {
   "cell_type": "markdown",
   "metadata": {},
   "source": [
    "## Send and receive"
   ]
  },
  {
   "cell_type": "code",
   "execution_count": 16,
   "metadata": {},
   "outputs": [
    {
     "name": "stdout",
     "output_type": "stream",
     "text": [
      "[INFO] Connected to server\n",
      "[INFO] Sent data to server\n",
      "Battery Level: 83.59375%\n",
      "Temperature: 32.029998779296875°C\n",
      "Acceleration X: 0.4908113479614258 m/s^2, Y: 0.07422025501728058 m/s^2, Z: 8.564059257507324 m/s^2\n",
      "Gyroscope X: -0.08260336518287659 rad/s, Y: -0.0005329249543137848 rad/s, Z: -0.0013323123566806316 rad/s\n",
      "[INFO] Connection closed\n"
     ]
    }
   ],
   "source": [
    "import socket\n",
    "import struct\n",
    "\n",
    "# Server details\n",
    "HOST = '192.168.1.8'  # Replace with the IP address of your Arduino\n",
    "PORT = 12345\n",
    "\n",
    "# Create a TCP/IP socket\n",
    "sock = socket.socket(socket.AF_INET, socket.SOCK_STREAM)\n",
    "\n",
    "try:\n",
    "    # Connect to the server\n",
    "    sock.connect((HOST, PORT))\n",
    "    print(\"[INFO] Connected to server\")\n",
    "\n",
    "    # Prepare sample data to send (display buffer)\n",
    "    # For example, we'll send a simple pattern (1024 bytes)\n",
    "    display_buffer = bytearray([0xFF if i % 2 == 0 else 0x00 for i in range(1024)])\n",
    "\n",
    "    # Send data\n",
    "    sock.sendall(display_buffer)\n",
    "    print(\"[INFO] Sent data to server\")\n",
    "\n",
    "    # Receive response (8 floats, 4 bytes each, 32 bytes total)\n",
    "    reply_buffer = sock.recv(8 * 4)\n",
    "\n",
    "    # Unpack the received data into floats\n",
    "    data = struct.unpack('8f', reply_buffer)\n",
    "\n",
    "    # Print the received data\n",
    "    battery_level = data[0]\n",
    "    temperature = data[1]\n",
    "    ax = data[2]\n",
    "    ay = data[3]\n",
    "    az = data[4]\n",
    "    gx = data[5]\n",
    "    gy = data[6]\n",
    "    gz = data[7]\n",
    "\n",
    "    print(f\"Battery Level: {battery_level}%\")\n",
    "    print(f\"Temperature: {temperature}°C\")\n",
    "    print(f\"Acceleration X: {ax} m/s^2, Y: {ay} m/s^2, Z: {az} m/s^2\")\n",
    "    print(f\"Gyroscope X: {gx} rad/s, Y: {gy} rad/s, Z: {gz} rad/s\")\n",
    "\n",
    "finally:\n",
    "    # Close the socket\n",
    "    sock.close()\n",
    "    print(\"[INFO] Connection closed\")\n"
   ]
  }
 ],
 "metadata": {
  "kernelspec": {
   "display_name": "Python 3",
   "language": "python",
   "name": "python3"
  },
  "language_info": {
   "codemirror_mode": {
    "name": "ipython",
    "version": 3
   },
   "file_extension": ".py",
   "mimetype": "text/x-python",
   "name": "python",
   "nbconvert_exporter": "python",
   "pygments_lexer": "ipython3",
   "version": "3.10.12"
  }
 },
 "nbformat": 4,
 "nbformat_minor": 2
}
