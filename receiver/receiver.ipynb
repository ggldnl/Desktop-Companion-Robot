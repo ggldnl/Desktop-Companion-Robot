{
 "cells": [
  {
   "cell_type": "code",
   "execution_count": 1,
   "metadata": {},
   "outputs": [
    {
     "name": "stderr",
     "output_type": "stream",
     "text": [
      "/home/daniel/.local/lib/python3.10/site-packages/matplotlib/projections/__init__.py:63: UserWarning: Unable to import Axes3D. This may be due to multiple versions of Matplotlib being installed (e.g. as a system package and as a pip package). As a result, the 3D projection is not available.\n",
      "  warnings.warn(\"Unable to import Axes3D. This may be due to multiple versions of \"\n"
     ]
    }
   ],
   "source": [
    "from PIL import Image\n",
    "import numpy as np\n",
    "import socket\n",
    "import struct\n",
    "import matplotlib.pyplot as plt"
   ]
  },
  {
   "cell_type": "code",
   "execution_count": 2,
   "metadata": {},
   "outputs": [],
   "source": [
    "import itertools\n",
    "\n",
    "\n",
    "def byte_array_to_bool_array(byte_array, original_shape):\n",
    "    flat_bool_array = []\n",
    "    \n",
    "    for byte in byte_array:\n",
    "        for bit in range(8):\n",
    "            flat_bool_array.append(bool(byte & (1 << bit)))\n",
    "\n",
    "    # flat_bool_array = flat_bool_array[:original_shape[0] * original_shape[1]]\n",
    "    bool_array = np.array(flat_bool_array).reshape(original_shape)\n",
    "\n",
    "    return bool_array\n",
    "\n",
    "def plot_bool_array(bool_array):\n",
    "    \"\"\"\n",
    "    Plot a 2D boolean array using matplotlib.\n",
    "    \n",
    "    :param bool_array: 2D numpy array of booleans\n",
    "    \"\"\"\n",
    "    plt.imshow(bool_array, cmap='gray', interpolation='nearest')\n",
    "    plt.title('2D Boolean Array')\n",
    "    plt.show()\n",
    "\n",
    "def receive(ip_address, port, buffer_size=1024):\n",
    "    sock = socket.socket(socket.AF_INET, socket.SOCK_DGRAM)\n",
    "    sock.bind((ip_address, port))\n",
    "    print(f\"Listening on {ip_address}:{port}\")\n",
    "\n",
    "    partial_data = {}\n",
    "    array_shapes = {}\n",
    "\n",
    "    while True:\n",
    "        packet, addr = sock.recvfrom(buffer_size)\n",
    "        print(len(packet))\n",
    "\n",
    "        array_id = packet[0]\n",
    "        seq_num = packet[1]\n",
    "        num_packets = packet[2]\n",
    "        width = packet[3]\n",
    "        height = packet[4]\n",
    "        data = packet[5:]\n",
    "\n",
    "        if array_id not in partial_data:\n",
    "            partial_data[array_id] = [None] * num_packets\n",
    "            array_shapes[array_id] = (height, width)\n",
    "\n",
    "        partial_data[array_id][seq_num] = data\n",
    "        print(f\"Received packet {seq_num + 1}/{num_packets} of array {array_id} from {addr}\")\n",
    "\n",
    "        if None not in partial_data[array_id]:\n",
    "            full_byte_array = bytearray(itertools.chain(*partial_data[array_id]))\n",
    "            original_shape = array_shapes[array_id]\n",
    "            bool_array = byte_array_to_bool_array(full_byte_array, original_shape)\n",
    "            plot_bool_array(bool_array)\n",
    "            del partial_data[array_id]\n",
    "            del array_shapes[array_id]\n"
   ]
  },
  {
   "cell_type": "code",
   "execution_count": 3,
   "metadata": {},
   "outputs": [
    {
     "name": "stdout",
     "output_type": "stream",
     "text": [
      "Listening on 0.0.0.0:5005\n",
      "1024\n",
      "Received packet 1/2 of array 0 from ('127.0.0.1', 39735)\n",
      "10\n",
      "Received packet 2/2 of array 0 from ('127.0.0.1', 39735)\n"
     ]
    },
    {
     "data": {
      "image/png": "[encoded data removed]",
      "text/plain": [
       "<Figure size 640x480 with 1 Axes>"
      ]
     },
     "metadata": {},
     "output_type": "display_data"
    },
    {
     "ename": "KeyboardInterrupt",
     "evalue": "",
     "output_type": "error",
     "traceback": [
      "\u001b[0;31m---------------------------------------------------------------------------\u001b[0m",
      "\u001b[0;31mKeyboardInterrupt\u001b[0m                         Traceback (most recent call last)",
      "Cell \u001b[0;32mIn[3], line 4\u001b[0m\n\u001b[1;32m      1\u001b[0m IP_ADDRESS \u001b[38;5;241m=\u001b[39m \u001b[38;5;124m\"\u001b[39m\u001b[38;5;124m0.0.0.0\u001b[39m\u001b[38;5;124m\"\u001b[39m  \u001b[38;5;66;03m# Listen on all interfaces\u001b[39;00m\n\u001b[1;32m      2\u001b[0m PORT \u001b[38;5;241m=\u001b[39m \u001b[38;5;241m5005\u001b[39m\n\u001b[0;32m----> 4\u001b[0m \u001b[43mreceive\u001b[49m\u001b[43m(\u001b[49m\u001b[43mIP_ADDRESS\u001b[49m\u001b[43m,\u001b[49m\u001b[43m \u001b[49m\u001b[43mPORT\u001b[49m\u001b[43m)\u001b[49m\n",
      "Cell \u001b[0;32mIn[2], line 35\u001b[0m, in \u001b[0;36mreceive\u001b[0;34m(ip_address, port, buffer_size)\u001b[0m\n\u001b[1;32m     32\u001b[0m array_shapes \u001b[38;5;241m=\u001b[39m {}\n\u001b[1;32m     34\u001b[0m \u001b[38;5;28;01mwhile\u001b[39;00m \u001b[38;5;28;01mTrue\u001b[39;00m:\n\u001b[0;32m---> 35\u001b[0m     packet, addr \u001b[38;5;241m=\u001b[39m \u001b[43msock\u001b[49m\u001b[38;5;241;43m.\u001b[39;49m\u001b[43mrecvfrom\u001b[49m\u001b[43m(\u001b[49m\u001b[43mbuffer_size\u001b[49m\u001b[43m)\u001b[49m\n\u001b[1;32m     36\u001b[0m     \u001b[38;5;28mprint\u001b[39m(\u001b[38;5;28mlen\u001b[39m(packet))\n\u001b[1;32m     38\u001b[0m     array_id \u001b[38;5;241m=\u001b[39m packet[\u001b[38;5;241m0\u001b[39m]\n",
      "\u001b[0;31mKeyboardInterrupt\u001b[0m: "
     ]
    }
   ],
   "source": [
    "IP_ADDRESS = \"0.0.0.0\"  # Listen on all interfaces\n",
    "PORT = 5005\n",
    "\n",
    "receive(IP_ADDRESS, PORT)"
   ]
  }
 ],
 "metadata": {
  "kernelspec": {
   "display_name": "Python 3",
   "language": "python",
   "name": "python3"
  },
  "language_info": {
   "codemirror_mode": {
    "name": "ipython",
    "version": 3
   },
   "file_extension": ".py",
   "mimetype": "text/x-python",
   "name": "python",
   "nbconvert_exporter": "python",
   "pygments_lexer": "ipython3",
   "version": "3.10.12"
  }
 },
 "nbformat": 4,
 "nbformat_minor": 2
}
